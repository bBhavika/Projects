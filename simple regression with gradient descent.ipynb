{
 "cells": [
  {
   "cell_type": "code",
   "execution_count": 1,
   "id": "1f6ac570",
   "metadata": {},
   "outputs": [],
   "source": [
    "#importing libraries\n",
    "import pandas as pd\n",
    "import numpy as np\n",
    "import matplotlib.pyplot as plt"
   ]
  },
  {
   "cell_type": "code",
   "execution_count": 2,
   "id": "8c584a55",
   "metadata": {},
   "outputs": [
    {
     "data": {
      "text/html": [
       "<div>\n",
       "<style scoped>\n",
       "    .dataframe tbody tr th:only-of-type {\n",
       "        vertical-align: middle;\n",
       "    }\n",
       "\n",
       "    .dataframe tbody tr th {\n",
       "        vertical-align: top;\n",
       "    }\n",
       "\n",
       "    .dataframe thead th {\n",
       "        text-align: right;\n",
       "    }\n",
       "</style>\n",
       "<table border=\"1\" class=\"dataframe\">\n",
       "  <thead>\n",
       "    <tr style=\"text-align: right;\">\n",
       "      <th></th>\n",
       "      <th>population</th>\n",
       "      <th>profit</th>\n",
       "    </tr>\n",
       "  </thead>\n",
       "  <tbody>\n",
       "    <tr>\n",
       "      <th>0</th>\n",
       "      <td>6.1101</td>\n",
       "      <td>17.5920</td>\n",
       "    </tr>\n",
       "    <tr>\n",
       "      <th>1</th>\n",
       "      <td>5.5277</td>\n",
       "      <td>9.1302</td>\n",
       "    </tr>\n",
       "    <tr>\n",
       "      <th>2</th>\n",
       "      <td>8.5186</td>\n",
       "      <td>13.6620</td>\n",
       "    </tr>\n",
       "    <tr>\n",
       "      <th>3</th>\n",
       "      <td>7.0032</td>\n",
       "      <td>11.8540</td>\n",
       "    </tr>\n",
       "    <tr>\n",
       "      <th>4</th>\n",
       "      <td>5.8598</td>\n",
       "      <td>6.8233</td>\n",
       "    </tr>\n",
       "  </tbody>\n",
       "</table>\n",
       "</div>"
      ],
      "text/plain": [
       "   population   profit\n",
       "0      6.1101  17.5920\n",
       "1      5.5277   9.1302\n",
       "2      8.5186  13.6620\n",
       "3      7.0032  11.8540\n",
       "4      5.8598   6.8233"
      ]
     },
     "execution_count": 2,
     "metadata": {},
     "output_type": "execute_result"
    }
   ],
   "source": [
    "#importing dataset\n",
    "df= pd.read_csv(r'C:\\Pythonedp\\univariate_profits_and_populations_from_the_cities.csv')\n",
    "df.head()"
   ]
  },
  {
   "cell_type": "code",
   "execution_count": 3,
   "id": "6a8db0f1",
   "metadata": {},
   "outputs": [
    {
     "name": "stdout",
     "output_type": "stream",
     "text": [
      "<class 'pandas.core.frame.DataFrame'>\n",
      "RangeIndex: 97 entries, 0 to 96\n",
      "Data columns (total 2 columns):\n",
      " #   Column      Non-Null Count  Dtype  \n",
      "---  ------      --------------  -----  \n",
      " 0   population  97 non-null     float64\n",
      " 1   profit      97 non-null     float64\n",
      "dtypes: float64(2)\n",
      "memory usage: 1.6 KB\n"
     ]
    }
   ],
   "source": [
    "df.info()"
   ]
  },
  {
   "cell_type": "code",
   "execution_count": 4,
   "id": "f75f5434",
   "metadata": {},
   "outputs": [
    {
     "data": {
      "text/plain": [
       "array([6.1101, 5.5277, 8.5186, 7.0032, 5.8598])"
      ]
     },
     "execution_count": 4,
     "metadata": {},
     "output_type": "execute_result"
    }
   ],
   "source": [
    "X=np.array(df['population'])\n",
    "y=np.array(df['profit'])\n",
    "X[:5]\n"
   ]
  },
  {
   "cell_type": "code",
   "execution_count": 5,
   "id": "3bdf2844",
   "metadata": {},
   "outputs": [
    {
     "data": {
      "image/png": "[encoded data removed]",
      "text/plain": [
       "<Figure size 432x288 with 1 Axes>"
      ]
     },
     "metadata": {
      "needs_background": "light"
     },
     "output_type": "display_data"
    }
   ],
   "source": [
    "#visualizing data\n",
    "plt.scatter(X,y)\n",
    "plt.xlabel(\"population\")\n",
    "plt.ylabel(\"profit\")\n",
    "plt.title(\"training data visualisation\");"
   ]
  },
  {
   "cell_type": "code",
   "execution_count": 6,
   "id": "b6923c88",
   "metadata": {},
   "outputs": [
    {
     "data": {
      "text/plain": [
       "array([[1.],\n",
       "       [1.],\n",
       "       [1.],\n",
       "       [1.],\n",
       "       [1.]])"
      ]
     },
     "execution_count": 6,
     "metadata": {},
     "output_type": "execute_result"
    }
   ],
   "source": [
    "#Lets create a matrix with single column of ones\n",
    "m=97\n",
    "X_0 = np.ones((m, 1))\n",
    "X_0[:5]"
   ]
  },
  {
   "cell_type": "code",
   "execution_count": 7,
   "id": "2dc4ab31",
   "metadata": {},
   "outputs": [
    {
     "data": {
      "text/plain": [
       "array([[6.1101],\n",
       "       [5.5277],\n",
       "       [8.5186],\n",
       "       [7.0032],\n",
       "       [5.8598]])"
      ]
     },
     "execution_count": 7,
     "metadata": {},
     "output_type": "execute_result"
    }
   ],
   "source": [
    "# Using reshape function convert X 1D array to 2D array of dimension 97x1\n",
    "X_1 = X.reshape(m, 1)\n",
    "X_1[:5]"
   ]
  },
  {
   "cell_type": "code",
   "execution_count": 8,
   "id": "a6be88c4",
   "metadata": {},
   "outputs": [
    {
     "data": {
      "text/plain": [
       "array([[1.    , 6.1101],\n",
       "       [1.    , 5.5277],\n",
       "       [1.    , 8.5186],\n",
       "       [1.    , 7.0032],\n",
       "       [1.    , 5.8598]])"
      ]
     },
     "execution_count": 8,
     "metadata": {},
     "output_type": "execute_result"
    }
   ],
   "source": [
    "# Lets use hstack() function from numpy to stack X_0 and X_1 horizontally (i.e. column wise) to make a single 2D array. \n",
    "# This will be our final X matrix (feature matrix)\n",
    "X = np.hstack((X_0, X_1))\n",
    "X[:5]"
   ]
  },
  {
   "cell_type": "code",
   "execution_count": 9,
   "id": "0f9ddc8a",
   "metadata": {},
   "outputs": [
    {
     "data": {
      "text/plain": [
       "array([0., 0.])"
      ]
     },
     "execution_count": 9,
     "metadata": {},
     "output_type": "execute_result"
    }
   ],
   "source": [
    "theta= np.zeros(2)\n",
    "theta"
   ]
  },
  {
   "cell_type": "markdown",
   "id": "723ec384",
   "metadata": {},
   "source": [
    "numpy.dot() this function returns the dot product of two arrays. For 2-D vectors, it is the equivalent to matrix multiplication\n",
    "numpy.subtract() this function perform the element wise subtraction\n",
    "numpy.square() this function perform the element wise square"
   ]
  },
  {
   "cell_type": "code",
   "execution_count": 10,
   "id": "60eb0795",
   "metadata": {},
   "outputs": [],
   "source": [
    "def compute_cost(X, y, theta):\n",
    "  \"\"\"\n",
    "  Compute cost for linear regression.\n",
    "\n",
    "  Input Parameters\n",
    "  ----------------\n",
    "  X : 2D array where each row represent the training example and each column represent the feature ndarray. Dimension(m x n)\n",
    "      m= number of training examples\n",
    "      n= number of features (including X_0 column of ones)\n",
    "  y : 1D array of labels/target value for each traing example. dimension(1 x m)\n",
    "\n",
    "  theta : 1D array of fitting parameters or weights. Dimension (1 x n)\n",
    "\n",
    "  Output Parameters\n",
    "  -----------------\n",
    "  J : Scalar value.\n",
    "  \"\"\"\n",
    "  predictions = X.dot(theta)\n",
    "  #print('predictions= ', predictions[:5])\n",
    "  errors = np.subtract(predictions, y)\n",
    "  #print('errors= ', errors[:5]) \n",
    "  sqrErrors = np.square(errors)\n",
    "  #print('sqrErrors= ', sqrErrors[:5]) \n",
    "  J = 1 / (2 * m) * np.sum(sqrErrors)\n",
    "\n",
    "  return J"
   ]
  },
  {
   "cell_type": "code",
   "execution_count": 11,
   "id": "379820db",
   "metadata": {},
   "outputs": [
    {
     "name": "stdout",
     "output_type": "stream",
     "text": [
      "The cost for given values of theta_0 and theta_1 = 32.072733877455676\n"
     ]
    }
   ],
   "source": [
    "# Lets compute the cost for theta values\n",
    "cost = compute_cost(X, y, theta)\n",
    "print('The cost for given values of theta_0 and theta_1 =', cost)"
   ]
  },
  {
   "cell_type": "code",
   "execution_count": 20,
   "id": "fd29c3bf",
   "metadata": {},
   "outputs": [],
   "source": [
    "def gradient_descent(X, y, theta, alpha, iterations):\n",
    "  \"\"\"\n",
    "  Compute cost for linear regression.\n",
    "\n",
    "  Input Parameters\n",
    "  ----------------\n",
    "  X : 2D array where each row represent the training example and each column represent the feature ndarray. Dimension(m x n)\n",
    "      m= number of training examples\n",
    "      n= number of features (including X_0 column of ones)\n",
    "  y : 1D array of labels/target value for each traing example. dimension(m x 1)\n",
    "  theta : 1D array of fitting parameters or weights. Dimension (1 x n)\n",
    "  alpha : Learning rate. Scalar value\n",
    "  iterations: No of iterations. Scalar value. \n",
    "\n",
    "  Output Parameters\n",
    "  -----------------\n",
    "  theta: Final Value. 1D array of fitting parameters or weights. Dimension (1 x n)\n",
    "  cost_history: Conatins value of cost for each iteration. 1D array. Dimansion(m x 1)\n",
    "  \"\"\"\n",
    "  cost_history = np.zeros(iterations)\n",
    "\n",
    "  for i in range(iterations):\n",
    "    predictions = X.dot(theta)\n",
    "    #print('predictions= ', predictions[:5])\n",
    "    errors = np.subtract(predictions, y)\n",
    "    #print('errors= ', errors[:5])\n",
    "    sum_delta = (alpha / m) * X.transpose().dot(errors);\n",
    "    #print('sum_delta= ', sum_delta[:5])\n",
    "    theta = theta - sum_delta;\n",
    "\n",
    "    cost_history[i] = compute_cost(X, y, theta)  \n",
    "\n",
    "  return theta, cost_history"
   ]
  },
  {
   "cell_type": "code",
   "execution_count": 21,
   "id": "2e8f6e02",
   "metadata": {},
   "outputs": [],
   "source": [
    "theta= [0., 0.]\n",
    "iterations = 1500;\n",
    "alpha = 0.01;"
   ]
  },
  {
   "cell_type": "code",
   "execution_count": 22,
   "id": "14e97168",
   "metadata": {},
   "outputs": [
    {
     "name": "stdout",
     "output_type": "stream",
     "text": [
      "Final value of theta = [-3.63029144  1.16636235]\n",
      "cost_history = [6.73719046 5.93159357 5.90115471 ... 4.48343473 4.48341145 4.48338826]\n"
     ]
    }
   ],
   "source": [
    "theta, cost_history = gradient_descent(X, y, theta, alpha, iterations)\n",
    "print('Final value of theta =', theta)\n",
    "print('cost_history =', cost_history)"
   ]
  },
  {
   "cell_type": "code",
   "execution_count": 23,
   "id": "3ffd8cfb",
   "metadata": {},
   "outputs": [
    {
     "data": {
      "image/png": "[encoded data removed]",
      "text/plain": [
       "<Figure size 432x288 with 1 Axes>"
      ]
     },
     "metadata": {
      "needs_background": "light"
     },
     "output_type": "display_data"
    }
   ],
   "source": [
    "# Since X is list of list (feature matrix) lets take values of column of index 1 only\n",
    "plt.scatter(X[:,1], y, label= 'Training Data')\n",
    "plt.plot(X[:,1],X.dot(theta), color='green', label='Linear Regression')\n",
    "plt.xlabel('Population of City in 10,000s')\n",
    "plt.ylabel('Profit in $10,000s')\n",
    "plt.title('Linear Regression Fit')\n",
    "plt.legend();"
   ]
  },
  {
   "cell_type": "code",
   "execution_count": 24,
   "id": "a68687ae",
   "metadata": {},
   "outputs": [
    {
     "data": {
      "text/plain": [
       "Text(0.5, 1.0, 'Convergence of gradient descent')"
      ]
     },
     "execution_count": 24,
     "metadata": {},
     "output_type": "execute_result"
    },
    {
     "data": {
      "image/png": "[encoded data removed]",
      "text/plain": [
       "<Figure size 432x288 with 1 Axes>"
      ]
     },
     "metadata": {
      "needs_background": "light"
     },
     "output_type": "display_data"
    }
   ],
   "source": [
    "plt.plot(range(1, iterations + 1),cost_history)\n",
    "plt.xlabel('Number of iterations')\n",
    "plt.ylabel('Cost (J)')\n",
    "plt.title('Convergence of gradient descent')"
   ]
  },
  {
   "cell_type": "code",
   "execution_count": 25,
   "id": "c2ee88c2",
   "metadata": {},
   "outputs": [
    {
     "name": "stdout",
     "output_type": "stream",
     "text": [
      "For population = 35,000, our prediction of profit is 4519.7678677017675\n",
      "For population = 70,000, our prediction of profit is 45342.45012944714\n"
     ]
    }
   ],
   "source": [
    "#testing the model\n",
    "predict1 = np.array([1, 3.5]).dot(theta)\n",
    "print(\"For population = 35,000, our prediction of profit is\", predict1 * 10000)\n",
    "\n",
    "predict2 = np.array([1, 7]).dot(theta)\n",
    "print(\"For population = 70,000, our prediction of profit is\", predict2 * 10000)"
   ]
  },
  {
   "cell_type": "code",
   "execution_count": 1,
   "id": "a55ad5f7",
   "metadata": {},
   "outputs": [
    {
     "ename": "NameError",
     "evalue": "name 'model' is not defined",
     "output_type": "error",
     "traceback": [
      "\u001b[1;31m---------------------------------------------------------------------------\u001b[0m",
      "\u001b[1;31mNameError\u001b[0m                                 Traceback (most recent call last)",
      "\u001b[1;32m<ipython-input-1-f787b853971b>\u001b[0m in \u001b[0;36m<module>\u001b[1;34m\u001b[0m\n\u001b[1;32m----> 1\u001b[1;33m \u001b[0mcoef\u001b[0m\u001b[1;33m=\u001b[0m \u001b[0mmodel\u001b[0m\u001b[1;33m.\u001b[0m\u001b[0mcoef_\u001b[0m\u001b[1;33m\u001b[0m\u001b[1;33m\u001b[0m\u001b[0m\n\u001b[0m\u001b[0;32m      2\u001b[0m \u001b[0mintercept\u001b[0m\u001b[1;33m=\u001b[0m \u001b[0mmodel\u001b[0m\u001b[1;33m.\u001b[0m\u001b[0mintercept_\u001b[0m\u001b[1;33m\u001b[0m\u001b[1;33m\u001b[0m\u001b[0m\n\u001b[0;32m      3\u001b[0m \u001b[0mprint\u001b[0m \u001b[1;33m(\u001b[0m\u001b[1;34m'y='\u001b[0m\u001b[1;33m,\u001b[0m\u001b[0mcoef\u001b[0m\u001b[1;33m,\u001b[0m\u001b[1;34m'+'\u001b[0m\u001b[1;33m,\u001b[0m \u001b[0mintercept\u001b[0m\u001b[1;33m,\u001b[0m\u001b[1;34m'*X'\u001b[0m\u001b[1;33m)\u001b[0m\u001b[1;33m\u001b[0m\u001b[1;33m\u001b[0m\u001b[0m\n",
      "\u001b[1;31mNameError\u001b[0m: name 'model' is not defined"
     ]
    }
   ],
   "source": []
  },
  {
   "cell_type": "code",
   "execution_count": null,
   "id": "a7509a6c",
   "metadata": {},
   "outputs": [],
   "source": []
  }
 ],
 "metadata": {
  "kernelspec": {
   "display_name": "Python 3",
   "language": "python",
   "name": "python3"
  },
  "language_info": {
   "codemirror_mode": {
    "name": "ipython",
    "version": 3
   },
   "file_extension": ".py",
   "mimetype": "text/x-python",
   "name": "python",
   "nbconvert_exporter": "python",
   "pygments_lexer": "ipython3",
   "version": "3.8.8"
  }
 },
 "nbformat": 4,
 "nbformat_minor": 5
}
